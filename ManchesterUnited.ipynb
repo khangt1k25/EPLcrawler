{
 "cells": [
  {
   "cell_type": "code",
   "execution_count": 1,
   "metadata": {},
   "outputs": [],
   "source": [
    "import numpy as np\n",
    "import pandas as pd\n",
    "import matplotlib.pyplot as plt\n",
    "import json\n",
    "from collections import Counter\n",
    "import os"
   ]
  },
  {
   "cell_type": "code",
   "execution_count": 2,
   "metadata": {},
   "outputs": [],
   "source": [
    "with open('./Data/clubstats.json', 'r') as f:\n",
    "    stats = json.load(f)"
   ]
  },
  {
   "cell_type": "code",
   "execution_count": 3,
   "metadata": {},
   "outputs": [],
   "source": [
    "MU = []\n",
    "for ele in stats:\n",
    "    if ele['clubid'] == 12:\n",
    "        MU.append((ele['ss'], ele))       \n",
    "MU = sorted(MU, key=lambda x:x[0])\n",
    "MU = [ele[1] for ele in MU]\n",
    "# MU = MU[:-1]"
   ]
  },
  {
   "cell_type": "code",
   "execution_count": 4,
   "metadata": {},
   "outputs": [],
   "source": [
    "sss = {\n",
    "    \"418\": \"2021/22\",\n",
    "    \"363\": \"2020/21\",\n",
    "    \"274\": \"2019/20\",\n",
    "    \"210\": \"2018/19\",\n",
    "    \"79\": \"2017/18\",\n",
    "    \"54\": \"2016/17\",\n",
    "    \"42\": \"2015/16\",\n",
    "    \"27\": \"2014/15\",\n",
    "    \"22\": \"2013/14\",\n",
    "    \"21\": \"2012/13\",\n",
    "    \"20\": \"2011/12\",\n",
    "    \"19\": \"2010/11\",\n",
    "    \"18\": \"2009/10\",\n",
    "    \"17\": \"2008/09\",\n",
    "    \"16\": \"2007/08\",\n",
    "    \"15\": \"2006/07\",\n",
    "    \"14\": \"2005/06\",\n",
    "    \"13\": \"2004/05\",\n",
    "    \"12\": \"2003/04\",\n",
    "    \"11\": \"2002/03\",\n",
    "    \"10\": \"2001/02\",\n",
    "    \"9\": \"2000/01\",\n",
    "    \"8\": \"1999/00\",\n",
    "    \"7\": \"1998/99\",\n",
    "    \"6\": \"1997/98\",\n",
    "    \"5\": \"1996/97\",\n",
    "    \"4\": \"1995/96\",\n",
    "    \"3\": \"1994/95\",\n",
    "    \"2\": \"1993/94\",\n",
    "    \"1\": \"1992/93\"\n",
    "}"
   ]
  },
  {
   "cell_type": "code",
   "execution_count": 5,
   "metadata": {},
   "outputs": [],
   "source": [
    "## Flatten stats\n",
    "_stats = [{stat['name']:int(stat['value']) for stat in p['stats']['stats']} for p in MU]\n",
    "for i in range(len(MU)):\n",
    "    MU[i].update(_stats[i])\n",
    "    MU[i].update({\"ssname\": sss[str(MU[i]['ss'])]})\n",
    "    MU[i].pop('stats')"
   ]
  },
  {
   "cell_type": "code",
   "execution_count": 7,
   "metadata": {},
   "outputs": [],
   "source": [
    "df.to_csv('./Manchester.csv')"
   ]
  },
  {
   "cell_type": "code",
   "execution_count": 8,
   "metadata": {},
   "outputs": [],
   "source": [
    "labels = df['ssname'].tolist()\n",
    "labels = [ele[2:] for ele in labels]"
   ]
  },
  {
   "cell_type": "code",
   "execution_count": 10,
   "metadata": {},
   "outputs": [],
   "source": [
    "N = 30\n",
    "ind = np.arange(N)\n",
    "width = 0.35      "
   ]
  },
  {
   "cell_type": "code",
   "execution_count": 23,
   "metadata": {},
   "outputs": [],
   "source": [
    "champ = [1, 3, 4, 6, 7, 8, 10, 14, 15, 16, 18, 20]\n",
    "labels = ['92/93',\n",
    " '93/94',\n",
    " '94/95',\n",
    " '95/96',\n",
    " '96/97',\n",
    " '97/98',\n",
    " '98/99',\n",
    " '99/00',\n",
    " '00/01',\n",
    " '01/02',\n",
    " '02/03',\n",
    " '03/04',\n",
    " '04/05',\n",
    " '05/06',\n",
    " '06/07',\n",
    " '07/08',\n",
    " '08/09',\n",
    " '09/10',\n",
    " '10/11',\n",
    " '11/12',\n",
    " '12/13',\n",
    " '13/14',\n",
    " '14/15',\n",
    " '15/16',\n",
    " '16/17',\n",
    " '17/18',\n",
    " '18/19',\n",
    " '19/20',\n",
    " '20/21',\n",
    " '21/22']"
   ]
  },
  {
   "cell_type": "code",
   "execution_count": 106,
   "metadata": {},
   "outputs": [],
   "source": [
    "# goals = df['goals'].tolist()\n",
    "# goals_conceded = df['goals_conceded'].tolist()\n",
    "\n",
    "# wins = df['wins'].tolist()\n",
    "# draws = df['draws'].tolist()\n",
    "# losses = df['losses'].tolist()\n",
    "# attendant = df['attendance_average'].tolist()\n",
    "# min_attendant = df['attendance_lowest'].tolist()\n",
    "# max_attendant = df['attendance_highest'].tolist()\n",
    "# clean_sheet = df['clean_sheet'].tolist()\n",
    "\n",
    "# red_card = df['total_red_card']\n",
    "# yellow_card = df['total_yel_card']\n",
    "\n",
    "# possession = df['possession_percentage'].tolist()\n",
    "# ball_recovery = df['ball_recovery'].tolist()\n",
    "# interception = df['interception'].tolist()\n",
    "\n",
    "# long_pass_own_to_opp = df['long_pass_own_to_opp'].tolist()\n",
    "\n",
    "# len(attendant)"
   ]
  },
  {
   "cell_type": "code",
   "execution_count": 111,
   "metadata": {},
   "outputs": [],
   "source": []
  },
  {
   "cell_type": "code",
   "execution_count": 187,
   "metadata": {},
   "outputs": [],
   "source": [
    "# win_rate = 100*np.array(wins)/(np.array(wins)+np.array(losses) + np.array(draws))\n",
    "\n",
    "# loss_rate = 100*np.array(losses)/(np.array(wins)+np.array(losses) + np.array(draws))\n",
    "\n",
    "# draw_rate = 100*np.array(draws)/(np.array(wins)+np.array(losses) + np.array(draws))\n",
    "# labels = np.array(labels)\n",
    "\n",
    "# attendant = np.array(attendant)\n",
    "# min_attendant = np.array(min_attendant)\n",
    "# max_attendant = np.array(max_attendant)\n",
    "# clean_sheet = np.array(clean_sheet)\n",
    "# red_card = np.array(red_card)\n",
    "# yellow_card = np.array(yellow_card)\n",
    "# red_card[[0, 27]] = 0\n",
    "\n",
    "# possession = np.array(possession)\n",
    "# possession = possession/38\n",
    "# possession[-1] = possession[-1]*38/16\n",
    "# possession[:14] = 0.0\n",
    "\n",
    "# ball_recovery = np.array(ball_recovery)\n",
    "# ball_recovery = ball_recovery/38\n",
    "# ball_recovery[-1] = ball_recovery[-1]*38/16\n",
    "# ball_recovery[:14] = 0.0\n",
    "\n",
    "\n",
    "# interception = np.array(interception)\n",
    "# interception = interception/38\n",
    "# interception[-1] = interception[-1]*38/16\n",
    "# interception[:14] = 0.0\n",
    "def processing(x):\n",
    "    x = np.array(x)\n",
    "    x = x/38\n",
    "    x[-1] = x[-1]*38/16\n",
    "    x[np.isnan(x)] = 0\n",
    "#     x[:14] = 0\n",
    "    return x\n",
    "def processing1(x):\n",
    "    x = np.array(x)\n",
    "    x[np.isnan(x)] = 0\n",
    "    x[:-5] = 0\n",
    "    return x\n",
    "# penalty_conceded = df['penalty_conceded'].tolist()\n",
    "# penalty_won = df['penalty_won'].tolist()\n",
    "\n",
    "# leftside_pass = df['leftside_pass'].tolist()\n",
    "# righside_pass = df['rightside_pass'].tolist()\n",
    "\n",
    "# big_chance_created = df['big_chance_created'].tolist()\n",
    "# big_chance_scored = df['big_chance_scored'].tolist()\n",
    "# big_chance_missed = df['big_chance_missed'].tolist()\n",
    "# contentious_decision = df['contentious_decision'].tolist()\n",
    "# first_half_goals = df['first_half_goals'].tolist()\n",
    "# goals = df['goals'].tolist()\n",
    "# second_half_goals = (df['goals']-df['first_half_goals']).tolist()\n",
    "# error_lead_to_goal = df['error_lead_to_goal'].tolist()\n",
    "pts_gained_losing_pos = df['pts_gained_losing_pos'].tolist()\n",
    "pts_dropped_winning_pos = df['pts_dropped_winning_pos'].tolist()"
   ]
  },
  {
   "cell_type": "code",
   "execution_count": 188,
   "metadata": {},
   "outputs": [],
   "source": [
    "# big_chance_created = processing1(big_chance_created)\n",
    "# big_chance_scored = processing1(big_chance_scored)\n",
    "# big_chance_missed = processing1(big_chance_missed)\n",
    "# error_lead_to_goal = processing1(error_lead_to_goal)\n",
    "# total_back_zone_pass, total_fwd_zone_pass = processing(total_back_zone_pass), processing(total_fwd_zone_pass)\n",
    "pts_gained_losing_pos, pts_dropped_winning_pos = processing1(pts_gained_losing_pos), processing1(pts_dropped_winning_pos)"
   ]
  },
  {
   "cell_type": "code",
   "execution_count": 189,
   "metadata": {},
   "outputs": [
    {
     "data": {
      "image/png": "[encoded data removed]",
      "text/plain": [
       "<Figure size 1440x360 with 1 Axes>"
      ]
     },
     "metadata": {
      "needs_background": "light"
     },
     "output_type": "display_data"
    }
   ],
   "source": [
    "fig, ax = plt.subplots(figsize=(20, 5))\n",
    "\n",
    "\n",
    "# p1 = ax.bar(labels, win_rate, width, bottom=None, label='Wins')\n",
    "# p2 = ax.bar(labels, draw_rate, width,\n",
    "#              label='Draws', bottom=None)\n",
    "# p3 = ax.bar(labels, loss_rate, width, bottom=None, label='Losses',)\n",
    "\n",
    "# plot(x, y, color='green', linestyle='dashed', marker='o',\n",
    "#      markerfacecolor='blue', markersize=12)\n",
    "p1 = ax.plot(labels, pts_gained_losing_pos, color='y',marker='o', linestyle='-', label='Gained')\n",
    "p2 = ax.plot(labels, pts_dropped_winning_pos, color='r', marker='o', linestyle='-', label='Dropped')\n",
    "# p3 = ax.plot(labels, big_chance_missed, color='b', marker='o', linestyle='-', label='Missed')\n",
    "\n",
    "p4 = ax.plot(labels[champ], pts_gained_losing_pos[champ], color='g', marker='*', markerSize=10, \n",
    "             linestyle='None', label='champion', animated=True)\n",
    "\n",
    "\n",
    "\n",
    "p5 = ax.plot()\n",
    "ax.axhline(0, color='grey', linewidth=0.8)\n",
    "ax.set_ylabel('Pts')\n",
    "ax.set_xlabel('Seasons')\n",
    "ax.legend()\n",
    "ax.set_title('MU gain dropped pts all seasons')\n",
    "plt.savefig('./MU_gain_dropped_pts.png')\n",
    "plt.show()"
   ]
  },
  {
   "cell_type": "code",
   "execution_count": 116,
   "metadata": {},
   "outputs": [
    {
     "data": {
      "text/plain": [
       "['1992/93',\n",
       " '1993/94',\n",
       " '1994/95',\n",
       " '1995/96',\n",
       " '1996/97',\n",
       " '1997/98',\n",
       " '1998/99',\n",
       " '1999/00',\n",
       " '2000/01',\n",
       " '2001/02',\n",
       " '2002/03',\n",
       " '2003/04',\n",
       " '2004/05',\n",
       " '2005/06',\n",
       " '2006/07',\n",
       " '2007/08',\n",
       " '2008/09',\n",
       " '2009/10',\n",
       " '2010/11',\n",
       " '2011/12',\n",
       " '2012/13',\n",
       " '2013/14',\n",
       " '2014/15',\n",
       " '2015/16',\n",
       " '2016/17',\n",
       " '2017/18',\n",
       " '2018/19',\n",
       " '2019/20',\n",
       " '2020/21',\n",
       " '2021/22']"
      ]
     },
     "execution_count": 116,
     "metadata": {},
     "output_type": "execute_result"
    }
   ],
   "source": [
    "labels"
   ]
  },
  {
   "cell_type": "code",
   "execution_count": null,
   "metadata": {},
   "outputs": [],
   "source": []
  }
 ],
 "metadata": {
  "kernelspec": {
   "display_name": "Python 3",
   "language": "python",
   "name": "python3"
  },
  "language_info": {
   "codemirror_mode": {
    "name": "ipython",
    "version": 3
   },
   "file_extension": ".py",
   "mimetype": "text/x-python",
   "name": "python",
   "nbconvert_exporter": "python",
   "pygments_lexer": "ipython3",
   "version": "3.7.6"
  }
 },
 "nbformat": 4,
 "nbformat_minor": 4
}
